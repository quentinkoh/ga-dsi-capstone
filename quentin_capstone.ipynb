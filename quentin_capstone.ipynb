{
 "cells": [
  {
   "cell_type": "code",
   "execution_count": 52,
   "metadata": {},
   "outputs": [],
   "source": [
    "import numpy as np\n",
    "import pandas as pd\n",
    "import matplotlib.pyplot as plt\n",
    "import seaborn as sns\n",
    "sns.set_style(\"dark\")\n",
    "\n",
    "% matplotlib inline\n",
    "\n",
    "from scipy.stats import mode\n",
    "\n",
    "from sklearn.utils import resample\n",
    "from sklearn.preprocessing import MinMaxScaler\n",
    "\n",
    "from sklearn.model_selection import train_test_split, cross_val_score, StratifiedKFold, GridSearchCV\n",
    "from sklearn.metrics import accuracy_score, roc_auc_score, roc_curve, auc, classification_report,\\\n",
    "confusion_matrix, f1_score, precision_score, recall_score\n",
    "\n",
    "from sklearn.linear_model import LogisticRegression, LogisticRegressionCV\n",
    "from sklearn.tree import DecisionTreeClassifier\n",
    "from sklearn.ensemble import BaggingClassifier, RandomForestClassifier\n",
    "from sklearn.feature_extraction.text import CountVectorizer, TfidfVectorizer\n",
    "\n",
    "import xgboost as xgb\n",
    "from xgboost.sklearn import XGBClassifier\n",
    "from xgboost import plot_importance\n",
    "\n",
    "pd.set_option('display.max_rows',1000)\n",
    "pd.set_option('display.max_columns',1000)"
   ]
  },
  {
   "cell_type": "code",
   "execution_count": 2,
   "metadata": {},
   "outputs": [
    {
     "name": "stdout",
     "output_type": "stream",
     "text": [
      "bidsdf shape: (7656334, 9)\n",
      "traindf shape: (2013, 4)\n",
      "testdf shape: (4700, 3)\n"
     ]
    }
   ],
   "source": [
    "bidsdf = pd.read_csv('bids.csv')\n",
    "traindf = pd.read_csv('train.csv')\n",
    "testdf = pd.read_csv('test.csv')\n",
    "\n",
    "print('bidsdf shape: {}'.format(bidsdf.shape))\n",
    "print('traindf shape: {}'.format(traindf.shape))\n",
    "print('testdf shape: {}'.format(testdf.shape))"
   ]
  },
  {
   "cell_type": "markdown",
   "metadata": {},
   "source": [
    "## EDA"
   ]
  },
  {
   "cell_type": "code",
   "execution_count": 3,
   "metadata": {},
   "outputs": [
    {
     "data": {
      "text/plain": [
       "bid_id          int64\n",
       "bidder_id      object\n",
       "auction        object\n",
       "merchandise    object\n",
       "device         object\n",
       "time            int64\n",
       "country        object\n",
       "ip             object\n",
       "url            object\n",
       "dtype: object"
      ]
     },
     "execution_count": 3,
     "metadata": {},
     "output_type": "execute_result"
    }
   ],
   "source": [
    "# bidsdf data types \n",
    "bidsdf.dtypes"
   ]
  },
  {
   "cell_type": "code",
   "execution_count": 4,
   "metadata": {},
   "outputs": [
    {
     "data": {
      "text/plain": [
       "bid_id            0\n",
       "bidder_id         0\n",
       "auction           0\n",
       "merchandise       0\n",
       "device            0\n",
       "time              0\n",
       "country        8859\n",
       "ip                0\n",
       "url               0\n",
       "dtype: int64"
      ]
     },
     "execution_count": 4,
     "metadata": {},
     "output_type": "execute_result"
    }
   ],
   "source": [
    "# check for null values\n",
    "bidsdf.isnull().sum()"
   ]
  },
  {
   "cell_type": "markdown",
   "metadata": {},
   "source": [
    "## Feature Engineering (hypotheses regarding robotic behaviour):\n",
    "    - Quantity: robots submit more bids per auction\n",
    "    - Speed: robots submit bids faster than humans\n",
    "    \n",
    "    We engineered four features:\n",
    "    1) bids_fnum: robots submit more bids\n",
    "    2) auctions_fnum: robots submit more bids across auctions\n",
    "    3) meanbidsperauction_fnum: hence, mean bids per auction for robots should be higher\n",
    "    4) meantimediff_fnum: robots has faster submission time"
   ]
  },
  {
   "cell_type": "markdown",
   "metadata": {},
   "source": [
    "#### <font color='red'> Engineering features\n",
    "    - bids_fnum\n",
    "    - auctions_fnum\n",
    "    - meanbidsperauction_fnum"
   ]
  },
  {
   "cell_type": "code",
   "execution_count": 5,
   "metadata": {},
   "outputs": [],
   "source": [
    "# sort bidsdf by 'bidder_id' and 'time' in ascending order\n",
    "bidsdf = bidsdf.sort_values(['bidder_id','time'],ascending=[True,True]).reset_index(drop=True)"
   ]
  },
  {
   "cell_type": "code",
   "execution_count": 6,
   "metadata": {},
   "outputs": [
    {
     "data": {
      "text/html": [
       "<div>\n",
       "<style scoped>\n",
       "    .dataframe tbody tr th:only-of-type {\n",
       "        vertical-align: middle;\n",
       "    }\n",
       "\n",
       "    .dataframe tbody tr th {\n",
       "        vertical-align: top;\n",
       "    }\n",
       "\n",
       "    .dataframe thead th {\n",
       "        text-align: right;\n",
       "    }\n",
       "</style>\n",
       "<table border=\"1\" class=\"dataframe\">\n",
       "  <thead>\n",
       "    <tr style=\"text-align: right;\">\n",
       "      <th></th>\n",
       "      <th>bid_id</th>\n",
       "      <th>bidder_id</th>\n",
       "      <th>auction</th>\n",
       "      <th>merchandise</th>\n",
       "      <th>device</th>\n",
       "      <th>time</th>\n",
       "      <th>country</th>\n",
       "      <th>ip</th>\n",
       "      <th>url</th>\n",
       "    </tr>\n",
       "  </thead>\n",
       "  <tbody>\n",
       "    <tr>\n",
       "      <th>0</th>\n",
       "      <td>7179832</td>\n",
       "      <td>001068c415025a009fee375a12cff4fcnht8y</td>\n",
       "      <td>4ifac</td>\n",
       "      <td>jewelry</td>\n",
       "      <td>phone561</td>\n",
       "      <td>9706345052631578</td>\n",
       "      <td>bn</td>\n",
       "      <td>139.226.147.115</td>\n",
       "      <td>vasstdc27m7nks3</td>\n",
       "    </tr>\n",
       "    <tr>\n",
       "      <th>1</th>\n",
       "      <td>1281292</td>\n",
       "      <td>002d229ffb247009810828f648afc2ef593rb</td>\n",
       "      <td>2tdw2</td>\n",
       "      <td>mobile</td>\n",
       "      <td>phone640</td>\n",
       "      <td>9766744105263157</td>\n",
       "      <td>sg</td>\n",
       "      <td>37.40.254.131</td>\n",
       "      <td>vasstdc27m7nks3</td>\n",
       "    </tr>\n",
       "    <tr>\n",
       "      <th>2</th>\n",
       "      <td>1281311</td>\n",
       "      <td>002d229ffb247009810828f648afc2ef593rb</td>\n",
       "      <td>2tdw2</td>\n",
       "      <td>mobile</td>\n",
       "      <td>phone219</td>\n",
       "      <td>9766744210526315</td>\n",
       "      <td>sg</td>\n",
       "      <td>37.40.254.131</td>\n",
       "      <td>vasstdc27m7nks3</td>\n",
       "    </tr>\n",
       "    <tr>\n",
       "      <th>3</th>\n",
       "      <td>6805028</td>\n",
       "      <td>0030a2dd87ad2733e0873062e4f83954mkj86</td>\n",
       "      <td>obbny</td>\n",
       "      <td>mobile</td>\n",
       "      <td>phone313</td>\n",
       "      <td>9704553947368421</td>\n",
       "      <td>ir</td>\n",
       "      <td>21.67.17.162</td>\n",
       "      <td>vnw40k8zzokijsv</td>\n",
       "    </tr>\n",
       "    <tr>\n",
       "      <th>4</th>\n",
       "      <td>3967330</td>\n",
       "      <td>003180b29c6a5f8f1d84a6b7b6f7be57tjj1o</td>\n",
       "      <td>obbny</td>\n",
       "      <td>mobile</td>\n",
       "      <td>phone420</td>\n",
       "      <td>9640018631578947</td>\n",
       "      <td>id</td>\n",
       "      <td>44.241.8.179</td>\n",
       "      <td>sj4jidex850loas</td>\n",
       "    </tr>\n",
       "  </tbody>\n",
       "</table>\n",
       "</div>"
      ],
      "text/plain": [
       "    bid_id                              bidder_id auction merchandise  \\\n",
       "0  7179832  001068c415025a009fee375a12cff4fcnht8y   4ifac     jewelry   \n",
       "1  1281292  002d229ffb247009810828f648afc2ef593rb   2tdw2      mobile   \n",
       "2  1281311  002d229ffb247009810828f648afc2ef593rb   2tdw2      mobile   \n",
       "3  6805028  0030a2dd87ad2733e0873062e4f83954mkj86   obbny      mobile   \n",
       "4  3967330  003180b29c6a5f8f1d84a6b7b6f7be57tjj1o   obbny      mobile   \n",
       "\n",
       "     device              time country               ip              url  \n",
       "0  phone561  9706345052631578      bn  139.226.147.115  vasstdc27m7nks3  \n",
       "1  phone640  9766744105263157      sg    37.40.254.131  vasstdc27m7nks3  \n",
       "2  phone219  9766744210526315      sg    37.40.254.131  vasstdc27m7nks3  \n",
       "3  phone313  9704553947368421      ir     21.67.17.162  vnw40k8zzokijsv  \n",
       "4  phone420  9640018631578947      id     44.241.8.179  sj4jidex850loas  "
      ]
     },
     "execution_count": 6,
     "metadata": {},
     "output_type": "execute_result"
    }
   ],
   "source": [
    "# bidsdf head\n",
    "bidsdf.head()"
   ]
  },
  {
   "cell_type": "code",
   "execution_count": 7,
   "metadata": {},
   "outputs": [
    {
     "name": "stdout",
     "output_type": "stream",
     "text": [
      "bids shape: (6614, 4)\n"
     ]
    }
   ],
   "source": [
    "# mean bids per unique auction - bids (new dataframe)\n",
    "# count the no. of bids each bidder_id participated in\n",
    "bids = bidsdf.groupby('bidder_id')['bidder_id'].agg('count')\n",
    "\n",
    "bids = pd.DataFrame({'bidder_id':bids.index,'bids_fnum':bids.values},index=bids.index)\n",
    "bids.index.name = ''\n",
    "\n",
    "# count the no. of unique auctions each bidder_id participated in\n",
    "auction = bidsdf.groupby('bidder_id')['auction'].nunique()\n",
    "\n",
    "bids['auctions_fnum'] = auction\n",
    "\n",
    "# mean no. of bids per unique auction\n",
    "bids['meanbidsperauction_fnum'] = bids['bids_fnum'] / bids['auctions_fnum']\n",
    "\n",
    "print('bids shape: {}'.format(bids.shape))"
   ]
  },
  {
   "cell_type": "code",
   "execution_count": 8,
   "metadata": {},
   "outputs": [
    {
     "name": "stdout",
     "output_type": "stream",
     "text": [
      "bids shape: (6614, 5) \n",
      "\n",
      "bidstraindf shape: (1984, 5)\n"
     ]
    }
   ],
   "source": [
    "# concat 'target' to bids dataframe\n",
    "bids['outcome'] = traindf.groupby('bidder_id')['outcome'].mean()\n",
    "\n",
    "print('bids shape: {}'.format(bids.shape),'\\n')\n",
    "\n",
    "# filter for train set from bids dataframe\n",
    "bidstraindf = bids[(bids['outcome'] == 0) | (bids['outcome'] == 1)]\n",
    "\n",
    "print('bidstraindf shape: {}'.format(bidstraindf.shape))"
   ]
  },
  {
   "cell_type": "markdown",
   "metadata": {},
   "source": [
    "## Visualizations (related to number of bids and unique auctions):\n",
    "    - Mean no. of bids per auction with outliers\n",
    "    - Mean no. of bids per auction without outliers\n",
    "    - Average for mean no. of bids per auction"
   ]
  },
  {
   "cell_type": "code",
   "execution_count": 53,
   "metadata": {},
   "outputs": [
    {
     "name": "stderr",
     "output_type": "stream",
     "text": [
      "C:\\Anaconda\\lib\\site-packages\\scipy\\stats\\stats.py:1713: FutureWarning: Using a non-tuple sequence for multidimensional indexing is deprecated; use `arr[tuple(seq)]` instead of `arr[seq]`. In the future this will be interpreted as an array index, `arr[np.array(seq)]`, which will result either in an error or a different result.\n",
      "  return np.add.reduce(sorted[indexer] * weights, axis=axis) / sumval\n"
     ]
    },
    {
     "data": {
      "image/png": "[encoded data removed]",
      "text/plain": [
       "<Figure size 1080x432 with 2 Axes>"
      ]
     },
     "metadata": {},
     "output_type": "display_data"
    }
   ],
   "source": [
    "fig = plt.figure(figsize=(15,6))\n",
    "ax1 = fig.add_subplot(111)\n",
    "\n",
    "ax1 = sns.kdeplot(bidstraindf[bidstraindf['outcome'] == 0]['meanbidsperauction_fnum'],shade=True,color='b',\n",
    "                  label='0 : Humans',legend=True)\n",
    "\n",
    "ax2 = ax1.twinx()\n",
    "ax2 = sns.kdeplot(bidstraindf[bidstraindf['outcome'] == 1]['meanbidsperauction_fnum'],shade=True,color='r',\n",
    "                  legend=False)\n",
    "\n",
    "ax1.plot(np.nan,'r',label='1 : Robots')\n",
    "ax1.legend(title='Target (class)',fontsize=16,loc='best')\n",
    "\n",
    "# adding title and x,y labels for plot\n",
    "ax1.set_title('Mean no. of bids per auction with outliers',fontsize=20)\n",
    "ax1.set_xlabel('bidder_id\\'s mean no. of bids per auction',fontsize=14)\n",
    "ax1.set_ylabel('Density',fontsize=14)\n",
    "\n",
    "ax.grid(False)"
   ]
  },
  {
   "cell_type": "code",
   "execution_count": 54,
   "metadata": {},
   "outputs": [
    {
     "name": "stderr",
     "output_type": "stream",
     "text": [
      "C:\\Anaconda\\lib\\site-packages\\scipy\\stats\\stats.py:1713: FutureWarning: Using a non-tuple sequence for multidimensional indexing is deprecated; use `arr[tuple(seq)]` instead of `arr[seq]`. In the future this will be interpreted as an array index, `arr[np.array(seq)]`, which will result either in an error or a different result.\n",
      "  return np.add.reduce(sorted[indexer] * weights, axis=axis) / sumval\n"
     ]
    },
    {
     "data": {
      "image/png": "[encoded data removed]",
      "text/plain": [
       "<Figure size 1080x432 with 2 Axes>"
      ]
     },
     "metadata": {},
     "output_type": "display_data"
    }
   ],
   "source": [
    "# removing outliers from 'meanbidsperauction_fnum' in bidstraindf\n",
    "q25_h,q75_h = np.percentile(bidstraindf[bidstraindf['outcome'] == 0]['meanbidsperauction_fnum'],25), np.percentile(bidstraindf[bidstraindf['outcome'] == 0]['meanbidsperauction_fnum'],75)\n",
    "iqr_h = q75_h-q25_h\n",
    "\n",
    "q25_r,q75_r = np.percentile(bidstraindf[bidstraindf['outcome'] == 1]['meanbidsperauction_fnum'],25), np.percentile(bidstraindf[bidstraindf['outcome'] == 1]['meanbidsperauction_fnum'],75)\n",
    "iqr_r = q75_r-q25_r\n",
    "\n",
    "# calculate the outlier cutoff (using 1.5x as the upper and lower limit)\n",
    "cutoff_h = iqr_h * 1.5\n",
    "lwr_h, upr_h = q25_h - cutoff_h, q75_h + cutoff_h\n",
    "\n",
    "cutoff_r = iqr_r * 1.5\n",
    "lwr_r, upr_r = q25_r - cutoff_r, q75_r + cutoff_r\n",
    "\n",
    "# segregating humans and robots 'meanbidsperauction_fnum' info\n",
    "bidstrain0 = bidstraindf[bidstraindf['outcome'] == 0]['meanbidsperauction_fnum'].reset_index(drop=True)\n",
    "bidstrain1 = bidstraindf[bidstraindf['outcome'] == 1]['meanbidsperauction_fnum'].reset_index(drop=True)\n",
    "\n",
    "# indexes for outliers for lwr and upr\n",
    "outliers_index_h = [i for i,x in enumerate(list(bidstrain0)) if x < lwr_h or x > upr_h]\n",
    "outliers_index_r = [i for i,x in enumerate(list(bidstrain1)) if x < lwr_r or x > upr_r]\n",
    "\n",
    "# plotting\n",
    "fig = plt.figure(figsize=(15,6))\n",
    "ax1 = fig.add_subplot(111)\n",
    "\n",
    "ax1 = sns.kdeplot(bidstrain0[~bidstrain0.index.isin(outliers_index_h)],shade=True,color='b',\n",
    "                  label='0 : Humans',legend=True)\n",
    "\n",
    "ax2 = ax1.twinx()\n",
    "ax2 = sns.kdeplot(bidstrain1[~bidstrain1.index.isin(outliers_index_r)],shade=True,color='r',\n",
    "                  legend=False)\n",
    "\n",
    "ax1.plot(np.nan,'r',label='1 : Robots')\n",
    "ax1.legend(title='Target (class)',fontsize=16,loc='best')\n",
    "\n",
    "# adding title and x,y labels for plot\n",
    "ax1.set_title('Mean no. of bids per auction without outliers',fontsize=20) \n",
    "ax1.set_xlabel('bidder_id\\'s mean no. of bids per auction',fontsize=14)\n",
    "ax1.set_ylabel('Density',fontsize=14)\n",
    "\n",
    "ax.grid(False)"
   ]
  },
  {
   "cell_type": "code",
   "execution_count": 59,
   "metadata": {},
   "outputs": [
    {
     "name": "stdout",
     "output_type": "stream",
     "text": [
      "average of 'meanbidsperauction_fnum' for class 0 - humans: 6.442\n",
      "average of 'meanbidsperauction_fnum' for class 1 - robots: 23.155\n",
      "\n",
      "\n",
      "\n"
     ]
    },
    {
     "data": {
      "image/png": "[encoded data removed]",
      "text/plain": [
       "<Figure size 576x432 with 1 Axes>"
      ]
     },
     "metadata": {},
     "output_type": "display_data"
    }
   ],
   "source": [
    "# taking average of 'meanbidsperauction_fnum' from bids_train df\n",
    "avg0 = bidstraindf[bidstraindf['outcome'] == 0]['meanbidsperauction_fnum'].mean()\n",
    "avg1 = bidstraindf[bidstraindf['outcome'] == 1]['meanbidsperauction_fnum'].mean()\n",
    "\n",
    "print('average of \\'meanbidsperauction_fnum\\' for class 0 - humans: {}'.format(round(avg0,3),'\\n'))\n",
    "print('average of \\'meanbidsperauction_fnum\\' for class 1 - robots: {}'.format(round(avg1,3),'\\n'))\n",
    "print('')\n",
    "print('')\n",
    "print('')\n",
    "\n",
    "# barplot for avg0 and avg1\n",
    "fig, ax = plt.subplots(figsize=(8,6))\n",
    "\n",
    "ax.bar(1,avg0,0.08,color='b')\n",
    "ax.bar(1.2,avg1,0.08,color='r')\n",
    "\n",
    "ax.set_xticks((1,1.2))\n",
    "ax.set_xticklabels(('Humans','Robots'),fontsize=12)\n",
    "\n",
    "ax.set_ylabel('Counts',fontsize=12)\n",
    "ax.set_title('Average for mean no. of bids per auction by target class',fontsize=14)\n",
    "ax.legend(['0 : Humans','1 : Robots'],title='Target (class)',loc='best',fontsize=14)\n",
    "\n",
    "ax.grid(True)"
   ]
  },
  {
   "cell_type": "markdown",
   "metadata": {},
   "source": [
    "## Visualizations (related to time difference):\n",
    "    - Time difference (lag = 1) and compare with two cases for time diff: \n",
    "    1) 0 to 0.6 * 1e13\n",
    "    2) 4.5 * 1e13 to 6.0 * 1e13"
   ]
  },
  {
   "cell_type": "code",
   "execution_count": 12,
   "metadata": {},
   "outputs": [
    {
     "name": "stdout",
     "output_type": "stream",
     "text": [
      "timedf shape: (3071224, 3)\n"
     ]
    }
   ],
   "source": [
    "# time difference between consecutive bids for each 'bidder_id'\n",
    "timediff_num = bidsdf.groupby('bidder_id')['time'].diff()\n",
    "timediff_num = timediff_num.values.reshape(-1,1)\n",
    "\n",
    "bids_index = bidsdf['bidder_id']\n",
    "\n",
    "# create dataframe\n",
    "timedf = pd.DataFrame({'bidder_id':bids_index,'timediff_num':timediff_num.reshape(-1)})\n",
    "        \n",
    "timedf = pd.merge(timedf,traindf.loc[:,['bidder_id','outcome']],on='bidder_id',how='inner')\n",
    "timedf = timedf.astype({'outcome':int})\n",
    "\n",
    "print('timedf shape: {}'.format(timedf.shape))"
   ]
  },
  {
   "cell_type": "code",
   "execution_count": 56,
   "metadata": {},
   "outputs": [
    {
     "name": "stderr",
     "output_type": "stream",
     "text": [
      "C:\\Anaconda\\lib\\site-packages\\statsmodels\\nonparametric\\kde.py:448: RuntimeWarning: invalid value encountered in greater\n",
      "  X = X[np.logical_and(X > clip[0], X < clip[1])] # won't work for two columns.\n",
      "C:\\Anaconda\\lib\\site-packages\\statsmodels\\nonparametric\\kde.py:448: RuntimeWarning: invalid value encountered in less\n",
      "  X = X[np.logical_and(X > clip[0], X < clip[1])] # won't work for two columns.\n",
      "C:\\Anaconda\\lib\\site-packages\\scipy\\stats\\stats.py:1713: FutureWarning: Using a non-tuple sequence for multidimensional indexing is deprecated; use `arr[tuple(seq)]` instead of `arr[seq]`. In the future this will be interpreted as an array index, `arr[np.array(seq)]`, which will result either in an error or a different result.\n",
      "  return np.add.reduce(sorted[indexer] * weights, axis=axis) / sumval\n"
     ]
    },
    {
     "data": {
      "image/png": "[encoded data removed]",
      "text/plain": [
       "<Figure size 1080x432 with 2 Axes>"
      ]
     },
     "metadata": {},
     "output_type": "display_data"
    }
   ],
   "source": [
    "fig = plt.figure(figsize=(15,6))\n",
    "ax1 = fig.add_subplot(111)\n",
    "\n",
    "ax1 = sns.kdeplot(timedf[timedf['outcome'] == 0]['timediff_num'],shade=True,color='b',\n",
    "                  label='0: Humans',legend=False)\n",
    "\n",
    "ax2 = ax1.twinx()\n",
    "ax2 = sns.kdeplot(timedf[timedf['outcome'] == 1]['timediff_num'],shade=True,color='r',\n",
    "                  legend=False)\n",
    "\n",
    "ax1.plot(np.nan,'r',label='1 : Robots')\n",
    "ax1.legend(title='Target (class)',fontsize=16,loc='best')\n",
    "\n",
    "# adding title and x,y labels for plot\n",
    "ax1.set_title('Time difference by bidder_id (lag = 1)',fontsize=20)\n",
    "ax1.set_xlabel('Time difference',fontsize=14)\n",
    "ax1.set_ylabel('Density',fontsize=14)\n",
    "\n",
    "ax.grid(False)"
   ]
  },
  {
   "cell_type": "code",
   "execution_count": 57,
   "metadata": {},
   "outputs": [
    {
     "name": "stderr",
     "output_type": "stream",
     "text": [
      "C:\\Anaconda\\lib\\site-packages\\scipy\\stats\\stats.py:1713: FutureWarning: Using a non-tuple sequence for multidimensional indexing is deprecated; use `arr[tuple(seq)]` instead of `arr[seq]`. In the future this will be interpreted as an array index, `arr[np.array(seq)]`, which will result either in an error or a different result.\n",
      "  return np.add.reduce(sorted[indexer] * weights, axis=axis) / sumval\n"
     ]
    },
    {
     "data": {
      "image/png": "[encoded data removed]",
      "text/plain": [
       "<Figure size 1080x432 with 2 Axes>"
      ]
     },
     "metadata": {},
     "output_type": "display_data"
    }
   ],
   "source": [
    "# 0 to 0.6 * 1e13\n",
    "timediff002 = timedf[(timedf['timediff_num'] >= 0) & (timedf['timediff_num'] <= 0.6*1e13)]\n",
    "\n",
    "fig = plt.figure(figsize=(15,6))\n",
    "ax1 = fig.add_subplot(111)\n",
    "\n",
    "ax1 = sns.kdeplot(timediff002[timediff002['outcome'] == 0]['timediff_num'],shade=True,color='b',\n",
    "                  label='0 : Humans',legend=False)\n",
    "\n",
    "ax2 = ax1.twinx()\n",
    "ax2 = sns.kdeplot(timediff002[timediff002['outcome'] == 1]['timediff_num'],shade=True,color='r',\n",
    "                  legend=False)\n",
    "\n",
    "ax1.plot(np.nan,'r',label='1 : Robots')\n",
    "ax1.legend(title='Target (class)',fontsize=16,loc='best')\n",
    "\n",
    "# adding title and x,y labels for plot\n",
    "ax1.set_title('Time difference per bidder_id (lag = 1)',fontsize=20)\n",
    "ax1.set_xlabel('Time difference: 0 to (0.6 * 1e13)',fontsize=14)\n",
    "ax1.set_ylabel('Density',fontsize=14)\n",
    "\n",
    "ax.grid(False)"
   ]
  },
  {
   "cell_type": "code",
   "execution_count": 58,
   "metadata": {},
   "outputs": [
    {
     "name": "stderr",
     "output_type": "stream",
     "text": [
      "C:\\Anaconda\\lib\\site-packages\\scipy\\stats\\stats.py:1713: FutureWarning: Using a non-tuple sequence for multidimensional indexing is deprecated; use `arr[tuple(seq)]` instead of `arr[seq]`. In the future this will be interpreted as an array index, `arr[np.array(seq)]`, which will result either in an error or a different result.\n",
      "  return np.add.reduce(sorted[indexer] * weights, axis=axis) / sumval\n"
     ]
    },
    {
     "data": {
      "image/png": "[encoded data removed]",
      "text/plain": [
       "<Figure size 1080x432 with 2 Axes>"
      ]
     },
     "metadata": {},
     "output_type": "display_data"
    }
   ],
   "source": [
    "# 0 to 0.6 * 1e13\n",
    "timediff002 = timedf[(timedf['timediff_num'] >= 4.5*1e13) & (timedf['timediff_num'] <= 6.0*1e13)]\n",
    "\n",
    "fig = plt.figure(figsize=(15,6))\n",
    "ax1 = fig.add_subplot(111)\n",
    "\n",
    "ax1 = sns.kdeplot(timediff002[timediff002['outcome'] == 0]['timediff_num'],shade=True,color='b',\n",
    "                  label='0 : Humans',legend=False)\n",
    "\n",
    "ax2 = ax1.twinx()\n",
    "ax2 = sns.kdeplot(timediff002[timediff002['outcome'] == 1]['timediff_num'],shade=True,color='r',\n",
    "                  legend=False)\n",
    "\n",
    "ax1.plot(np.nan,'r',label='1 : Robots')\n",
    "ax1.legend(title='Target (class)',fontsize=16,loc='best')\n",
    "\n",
    "# adding title and x,y labels for plot\n",
    "ax1.set_title('Time difference per bidder_id (lag = 1)',fontsize=20)\n",
    "ax1.set_xlabel('Time difference: (4.5 * 1e13) to (6.0 * 1e13)',fontsize=14)\n",
    "ax1.set_ylabel('Density',fontsize=14)\n",
    "\n",
    "ax.grid(False)"
   ]
  },
  {
   "cell_type": "markdown",
   "metadata": {},
   "source": [
    "#### <font color='red'> Engineering Features\n",
    "    - meantimediff_fnum"
   ]
  },
  {
   "cell_type": "code",
   "execution_count": 16,
   "metadata": {},
   "outputs": [
    {
     "name": "stdout",
     "output_type": "stream",
     "text": [
      "bidsdf shape: (7656334, 11)\n"
     ]
    }
   ],
   "source": [
    "# concat 'meantimediff_fnum' to bidsdf and prepare our training data before modelling\n",
    "# taking time difference with lag = 1\n",
    "timediff = bidsdf.groupby('bidder_id')['time'].diff()\n",
    "\n",
    "# feature scaling for timediff for LogisticRegression modelling\n",
    "mms = MinMaxScaler()\n",
    "timediff_norm = mms.fit_transform(np.array(timediff).reshape(-1,1))\n",
    "\n",
    "# concat timediff and timediff_norm to bidsdf\n",
    "bidsdf['timediff'] = timediff\n",
    "bidsdf['timediff_norm'] = timediff_norm\n",
    "\n",
    "# impute missing values in timediff and timediff_norm with their medians\n",
    "# median is chosen as timediff and timediff_norm are right-skewed distributions\n",
    "bidsdf['timediff'] = bidsdf['timediff'].fillna(bidsdf['timediff'].median())\n",
    "bidsdf['timediff_norm'] = bidsdf['timediff_norm'].fillna(bidsdf['timediff_norm'].median())\n",
    "\n",
    "print('bidsdf shape: {}'.format(bidsdf.shape))"
   ]
  },
  {
   "cell_type": "code",
   "execution_count": 17,
   "metadata": {},
   "outputs": [
    {
     "name": "stdout",
     "output_type": "stream",
     "text": [
      "bids shape: (6614, 6)\n"
     ]
    }
   ],
   "source": [
    "# taking the mean of timediff_norm and concat vertically to bids dataframe\n",
    "meandiff_norm = bidsdf.groupby('bidder_id')['timediff_norm'].mean()\n",
    "\n",
    "bids['meantimediff_norm_fnum'] = meandiff_norm\n",
    "\n",
    "print('bids shape: {}'.format(bids.shape))"
   ]
  },
  {
   "cell_type": "markdown",
   "metadata": {},
   "source": [
    "## Baseline\n",
    "    One that always predicts the majority class of 0 : Humans\n",
    "    - Without down- or up- sampling of this imbalanced dataset\n",
    "    - AUC: 0.50"
   ]
  },
  {
   "cell_type": "code",
   "execution_count": 18,
   "metadata": {},
   "outputs": [
    {
     "name": "stdout",
     "output_type": "stream",
     "text": [
      "baseline auc: 0.5\n"
     ]
    }
   ],
   "source": [
    "# baseline model fitting\n",
    "train = bids[(bids['outcome'] == 0 ) | (bids['outcome'] == 1)]\n",
    "\n",
    "X = train.drop(['bidder_id','outcome'],axis=1,inplace=False)\n",
    "y = train['outcome']\n",
    "\n",
    "xtrain,xtest,ytrain,ytest = train_test_split(X,y,test_size=0.2,random_state=42)\n",
    "\n",
    "logreg = LogisticRegression(solver='lbfgs')\n",
    "logreg.fit(xtrain,ytrain)\n",
    "\n",
    "ypred = logreg.predict(xtest)\n",
    "\n",
    "fpr,tpr,_ = roc_curve(ytest,np.zeros(ytest.shape[0]))\n",
    "\n",
    "print('baseline auc: {}'.format(auc(fpr,tpr)))"
   ]
  },
  {
   "cell_type": "code",
   "execution_count": 19,
   "metadata": {},
   "outputs": [
    {
     "name": "stdout",
     "output_type": "stream",
     "text": [
      "bids shape: (6614, 6) \n",
      "\n",
      "bids_array shape: (6614, 5)\n"
     ]
    }
   ],
   "source": [
    "# to shift 'outcome' column to last index and remove 'bidder_id' from bids dataframe\n",
    "# reason being - so that we can use the following customized functions for model fitting\n",
    "cols = bids.columns.tolist()\n",
    "cols.pop(cols.index('outcome'))\n",
    "\n",
    "bids = bids[cols+['outcome']]\n",
    "\n",
    "# create new dataframe to drop 'bidder_id' and subsequently, change the dataframe to array\n",
    "bids_array = bids.copy()\n",
    "bids_array.drop('bidder_id',axis=1,inplace=True)\n",
    "\n",
    "# change bids dataframe to bids array\n",
    "bids_array = bids_array.values\n",
    "\n",
    "print('bids shape: {}'.format(bids.shape),'\\n')\n",
    "print('bids_array shape: {}'.format(bids_array.shape))"
   ]
  },
  {
   "cell_type": "markdown",
   "metadata": {},
   "source": [
    "### Creating following functions for convenience in computing of model evaluation metrics, downsampling of majority class of 0 : Humans and upsampling of minority class of 1 : Robots"
   ]
  },
  {
   "cell_type": "code",
   "execution_count": 20,
   "metadata": {},
   "outputs": [],
   "source": [
    "# to shift 'outcome' column to last index in bids dataframe\n",
    "# to remove 'bidder_id' column from bids_array (a copy of bids) and subsequently, change it to an array for model fitting\n",
    "def df_to_array(df):\n",
    "    '''descr'''\n",
    "    \n",
    "    cols = df.columns.tolist()\n",
    "    cols.pop(cols.index('outcome'))\n",
    "    \n",
    "    df = df[cols+['outcome']]\n",
    "    \n",
    "    # create a copy of df and remove 'bidder_id' column\n",
    "    data_array = df.copy()\n",
    "    data_array.drop('bidder_id',axis=1,inplace=True)\n",
    "    \n",
    "    # change data structure\n",
    "    data_array = data_array.values\n",
    "    \n",
    "    return data_array"
   ]
  },
  {
   "cell_type": "code",
   "execution_count": 21,
   "metadata": {},
   "outputs": [],
   "source": [
    "# score func for evaluating classifier's accuracy, precision and recall\n",
    "def score(x_test,y_test,y_pred):\n",
    "    '''score function for evaluating classifier\\'s accuracy, precision and recall'''\n",
    "    acc = model.score(x_test,y_test)\n",
    "    prec = precision_score(y_test,y_pred)\n",
    "    recal = recall_score(y_test,y_pred)\n",
    "    \n",
    "    return acc,prec,recal"
   ]
  },
  {
   "cell_type": "code",
   "execution_count": 22,
   "metadata": {},
   "outputs": [],
   "source": [
    "# downsampling func for this imbalanced dataset\n",
    "def downsample(data_array):\n",
    "    '''downsammpling function for majority class of 0 : Humans to 50:50 ratio against 1 : Robots'''\n",
    "    bids0 = resample(data_array[data_array[:,-1] == 0,:],replace=True,\n",
    "                     n_samples=pd.Series(data_array[:,-1]).value_counts()[1],random_state=42)\n",
    "    \n",
    "    bids1 = data_array[data_array[:,-1] == 1,:]\n",
    "    \n",
    "    bidsdownsample = np.vstack((bids0,bids1))\n",
    "    \n",
    "    fold_xtrain = bidsdownsample[:,:-1]\n",
    "    fold_ytrain = bidsdownsample[:,-1]\n",
    "    \n",
    "    return fold_xtrain,fold_ytrain"
   ]
  },
  {
   "cell_type": "code",
   "execution_count": 23,
   "metadata": {},
   "outputs": [],
   "source": [
    "# upsampling func for this imbalanced dataset\n",
    "def upsample(data_array):\n",
    "    '''upsampling function for minority class of 1 : Robots to 50:50 ratio against 0 : Humans'''\n",
    "    \n",
    "    bids0 = data_array[data_array[:,-1] == 0,:]\n",
    "    \n",
    "    bids1 = resample(data_array[data_array[:,-1] == 1,:],replace=True,\n",
    "                    n_samples=pd.Series(data_array[:,-1]).value_counts()[0],random_state=42)\n",
    "    \n",
    "    bidsupsample = np.vstack((bids0,bids1))\n",
    "    \n",
    "    fold_xtrain = bidsupsample[:,:-1]\n",
    "    fold_ytrain = bidsupsample[:,-1]\n",
    "    \n",
    "    return fold_xtrain,fold_ytrain"
   ]
  },
  {
   "cell_type": "code",
   "execution_count": 24,
   "metadata": {},
   "outputs": [],
   "source": [
    "def kfcv_downsample(model,data_array,fold=5):\n",
    "    '''stratified k-fold cross-validation with default 5 folds and for downsampling of majority class - 0 : Humans'''\n",
    "    \n",
    "    # filtering for training data from data_array\n",
    "    train0 = data_array[data_array[:,-1] == 0,:]\n",
    "    train1 = data_array[data_array[:,-1] == 1,:]\n",
    "    train = np.vstack((train0,train1))\n",
    "    \n",
    "    x = train[:,:-1]\n",
    "    y = train[:,-1]\n",
    "    \n",
    "    # cross-validation\n",
    "    aucs = []\n",
    "    accuracies = []\n",
    "    precisions = []\n",
    "    recalls = []\n",
    "    \n",
    "    kf = StratifiedKFold(fold,shuffle=False,random_state=42)\n",
    "\n",
    "    for train_indices,test_indices in kf.split(x,y):\n",
    "        fold_xtrain = x[train_indices]\n",
    "        fold_xtest = x[test_indices]\n",
    "        fold_ytrain = y[train_indices]\n",
    "        fold_ytest = y[test_indices]\n",
    "\n",
    "        # creating a data array for training set in each fold\n",
    "        train_array = np.hstack((fold_xtrain,fold_ytrain.reshape(-1,1)))\n",
    "    \n",
    "        # downsampling majority class of 0 : Humans\n",
    "        fold_xtrain,fold_ytrain = downsample(train_array)\n",
    "    \n",
    "        # model fitting\n",
    "        model.fit(fold_xtrain,fold_ytrain)\n",
    "  \n",
    "        # predict target and computing its associated probabilities\n",
    "        ypred = model.predict(fold_xtest)\n",
    "        yprob = model.predict_proba(fold_xtest)\n",
    "        \n",
    "        ypp = pd.DataFrame(yprob,columns=['class0pr','class1pr'])\n",
    "        \n",
    "        # lower the probability threshold for predicting class 1 : Robots\n",
    "        #ypp['class1newpr_pred'] = [1 if x >= prob else 0 for x in ypp['class1pr']]\n",
    "\n",
    "        # for class 1 : Robots, find its auc\n",
    "        fpr,tpr,_ = roc_curve(fold_ytest,ypp['class1pr'])\n",
    "        aucs.append(auc(fpr,tpr))\n",
    "\n",
    "        # computing accuracies, precisions, recalls\n",
    "        acc,prec,recal = score(fold_xtest,fold_ytest,ypred)\n",
    "        accuracies.append(acc)\n",
    "        precisions.append(prec)\n",
    "        recalls.append(recal)\n",
    "    \n",
    "    prob = 0.5\n",
    "    auc_mean = round(np.mean(aucs),5)\n",
    "    acc_mean = round(np.mean(accuracies),5)\n",
    "    prec_mean = round(np.mean(precisions),5)\n",
    "    recall_mean = round(np.mean(recalls),5)\n",
    "    \n",
    "    return [prob,auc_mean,acc_mean,prec_mean,recall_mean]"
   ]
  },
  {
   "cell_type": "code",
   "execution_count": 25,
   "metadata": {},
   "outputs": [],
   "source": [
    "def kfcv_upsample(model,data_array,fold=5):\n",
    "    '''stratified k-fold cross-validation with default 5 folds and for upsampling of majority class - 1 : Robots'''\n",
    "    \n",
    "    # filtering for training data from data_array\n",
    "    train0 = data_array[data_array[:,-1] == 0,:]\n",
    "    train1 = data_array[data_array[:,-1] == 1,:]\n",
    "    train = np.vstack((train0,train1))\n",
    "    \n",
    "    x = train[:,:-1]\n",
    "    y = train[:,-1]\n",
    "    \n",
    "    # cross-validation\n",
    "    aucs = []\n",
    "    accuracies = []\n",
    "    precisions = []\n",
    "    recalls = []\n",
    "    \n",
    "    kf = StratifiedKFold(fold,shuffle=False,random_state=42)\n",
    "\n",
    "    for train_indices,test_indices in kf.split(x,y):\n",
    "        fold_xtrain = x[train_indices]\n",
    "        fold_xtest = x[test_indices]\n",
    "        fold_ytrain = y[train_indices]\n",
    "        fold_ytest = y[test_indices]\n",
    "\n",
    "        # creating a data array for training set in each fold\n",
    "        train_array = np.hstack((fold_xtrain,fold_ytrain.reshape(-1,1)))\n",
    "    \n",
    "        # upsampling minority class of 1 : Robots\n",
    "        fold_xtrain,fold_ytrain = upsample(train_array)\n",
    "    \n",
    "        # model fitting\n",
    "        model.fit(fold_xtrain,fold_ytrain)\n",
    "  \n",
    "        # predict target and computing its associated probabilities\n",
    "        ypred = model.predict(fold_xtest)\n",
    "        yprob = model.predict_proba(fold_xtest)\n",
    "        \n",
    "        ypp = pd.DataFrame(yprob,columns=['class0pr','class1pr'])\n",
    "        \n",
    "        # lower the probability threshold for predicting class 1 : Robots\n",
    "        #ypp['class1newpr_pred'] = [1 if x >= prob else 0 for x in ypp['class1pr']]\n",
    "\n",
    "        # for class 1 : Robots, find its auc\n",
    "        fpr,tpr,_ = roc_curve(fold_ytest,ypp['class1pr'])\n",
    "        aucs.append(auc(fpr,tpr))\n",
    "\n",
    "        # computing accuracies, precisions, recalls\n",
    "        acc,prec,recal = score(fold_xtest,fold_ytest,ypred)\n",
    "        accuracies.append(acc)\n",
    "        precisions.append(prec)\n",
    "        recalls.append(recal)\n",
    "\n",
    "    prob = 0.5\n",
    "    auc_mean = round(np.mean(aucs),5)\n",
    "    acc_mean = round(np.mean(accuracies),5)\n",
    "    prec_mean = round(np.mean(precisions),5)\n",
    "    recall_mean = round(np.mean(recalls),5)\n",
    "    \n",
    "    return [prob,auc_mean,acc_mean,prec_mean,recall_mean]"
   ]
  },
  {
   "cell_type": "markdown",
   "metadata": {},
   "source": [
    "## <font color='green'> Modelling\n",
    "    LogisticRegression with four features\n",
    "    1) bids_fnum\n",
    "    2) auctions_fnum\n",
    "    3) meanbidsperauction_fnum\n",
    "    4) meantimediff_norm_fnum"
   ]
  },
  {
   "cell_type": "code",
   "execution_count": 26,
   "metadata": {},
   "outputs": [
    {
     "data": {
      "text/html": [
       "<div>\n",
       "<style scoped>\n",
       "    .dataframe tbody tr th:only-of-type {\n",
       "        vertical-align: middle;\n",
       "    }\n",
       "\n",
       "    .dataframe tbody tr th {\n",
       "        vertical-align: top;\n",
       "    }\n",
       "\n",
       "    .dataframe thead th {\n",
       "        text-align: right;\n",
       "    }\n",
       "</style>\n",
       "<table border=\"1\" class=\"dataframe\">\n",
       "  <thead>\n",
       "    <tr style=\"text-align: right;\">\n",
       "      <th></th>\n",
       "      <th>Probability</th>\n",
       "      <th>AUC</th>\n",
       "      <th>Accuracy</th>\n",
       "      <th>Precision</th>\n",
       "      <th>Recall</th>\n",
       "    </tr>\n",
       "  </thead>\n",
       "  <tbody>\n",
       "    <tr>\n",
       "      <th>0</th>\n",
       "      <td>0.5</td>\n",
       "      <td>0.80978</td>\n",
       "      <td>0.83772</td>\n",
       "      <td>0.16334</td>\n",
       "      <td>0.50571</td>\n",
       "    </tr>\n",
       "  </tbody>\n",
       "</table>\n",
       "</div>"
      ],
      "text/plain": [
       "   Probability      AUC  Accuracy  Precision   Recall\n",
       "0          0.5  0.80978   0.83772    0.16334  0.50571"
      ]
     },
     "execution_count": 26,
     "metadata": {},
     "output_type": "execute_result"
    }
   ],
   "source": [
    "# logistic regression and downsampling\n",
    "model = LogisticRegression(solver='lbfgs')\n",
    "\n",
    "bids_array = df_to_array(bids)\n",
    "\n",
    "summary = pd.DataFrame(np.array(kfcv_downsample(model,bids_array)).reshape(1,-1)\n",
    "                                ,columns=['Probability','AUC','Accuracy','Precision','Recall'])\n",
    "summary"
   ]
  },
  {
   "cell_type": "code",
   "execution_count": 27,
   "metadata": {},
   "outputs": [
    {
     "data": {
      "text/html": [
       "<div>\n",
       "<style scoped>\n",
       "    .dataframe tbody tr th:only-of-type {\n",
       "        vertical-align: middle;\n",
       "    }\n",
       "\n",
       "    .dataframe tbody tr th {\n",
       "        vertical-align: top;\n",
       "    }\n",
       "\n",
       "    .dataframe thead th {\n",
       "        text-align: right;\n",
       "    }\n",
       "</style>\n",
       "<table border=\"1\" class=\"dataframe\">\n",
       "  <thead>\n",
       "    <tr style=\"text-align: right;\">\n",
       "      <th></th>\n",
       "      <th>Probability</th>\n",
       "      <th>AUC</th>\n",
       "      <th>Accuracy</th>\n",
       "      <th>Precision</th>\n",
       "      <th>Recall</th>\n",
       "    </tr>\n",
       "  </thead>\n",
       "  <tbody>\n",
       "    <tr>\n",
       "      <th>0</th>\n",
       "      <td>0.5</td>\n",
       "      <td>0.83627</td>\n",
       "      <td>0.84226</td>\n",
       "      <td>0.19568</td>\n",
       "      <td>0.65</td>\n",
       "    </tr>\n",
       "  </tbody>\n",
       "</table>\n",
       "</div>"
      ],
      "text/plain": [
       "   Probability      AUC  Accuracy  Precision  Recall\n",
       "0          0.5  0.83627   0.84226    0.19568    0.65"
      ]
     },
     "execution_count": 27,
     "metadata": {},
     "output_type": "execute_result"
    }
   ],
   "source": [
    "# logistic regression and downsampling\n",
    "model = LogisticRegression(solver='lbfgs')\n",
    "\n",
    "bids_array = df_to_array(bids)\n",
    "\n",
    "summary = pd.DataFrame(np.array(kfcv_upsample(model,bids_array)).reshape(1,-1)\n",
    "                                ,columns=['Probability','AUC','Accuracy','Precision','Recall'])\n",
    "summary"
   ]
  },
  {
   "cell_type": "markdown",
   "metadata": {},
   "source": [
    "## <font color='green'> Modelling\n",
    "    RandomForestClassifier with four features\n",
    "    1) bids_fnum\n",
    "    2) auctions_fnum\n",
    "    3) meanbidsperauction_fnum\n",
    "    4) meantimediff_fnum"
   ]
  },
  {
   "cell_type": "code",
   "execution_count": 28,
   "metadata": {},
   "outputs": [],
   "source": [
    "# replacing meantimediff_norm_fnum with meantimediff_fnum in bids dataframe\n",
    "bids = bids.drop('meantimediff_norm_fnum',axis=1,inplace=False)\n",
    "\n",
    "# taking the mean of timediff and concat vertically to bids dataframe\n",
    "meandiff = bidsdf.groupby('bidder_id')['timediff'].mean()\n",
    "\n",
    "bids['meantimediff_fnum'] = meandiff"
   ]
  },
  {
   "cell_type": "code",
   "execution_count": 29,
   "metadata": {},
   "outputs": [
    {
     "name": "stderr",
     "output_type": "stream",
     "text": [
      "C:\\Anaconda\\lib\\site-packages\\sklearn\\ensemble\\forest.py:248: FutureWarning: The default value of n_estimators will change from 10 in version 0.20 to 100 in 0.22.\n",
      "  \"10 in version 0.20 to 100 in 0.22.\", FutureWarning)\n"
     ]
    },
    {
     "data": {
      "text/html": [
       "<div>\n",
       "<style scoped>\n",
       "    .dataframe tbody tr th:only-of-type {\n",
       "        vertical-align: middle;\n",
       "    }\n",
       "\n",
       "    .dataframe tbody tr th {\n",
       "        vertical-align: top;\n",
       "    }\n",
       "\n",
       "    .dataframe thead th {\n",
       "        text-align: right;\n",
       "    }\n",
       "</style>\n",
       "<table border=\"1\" class=\"dataframe\">\n",
       "  <thead>\n",
       "    <tr style=\"text-align: right;\">\n",
       "      <th></th>\n",
       "      <th>Probability</th>\n",
       "      <th>AUC</th>\n",
       "      <th>Accuracy</th>\n",
       "      <th>Precision</th>\n",
       "      <th>Recall</th>\n",
       "    </tr>\n",
       "  </thead>\n",
       "  <tbody>\n",
       "    <tr>\n",
       "      <th>0</th>\n",
       "      <td>0.5</td>\n",
       "      <td>0.88489</td>\n",
       "      <td>0.80495</td>\n",
       "      <td>0.18638</td>\n",
       "      <td>0.75857</td>\n",
       "    </tr>\n",
       "  </tbody>\n",
       "</table>\n",
       "</div>"
      ],
      "text/plain": [
       "   Probability      AUC  Accuracy  Precision   Recall\n",
       "0          0.5  0.88489   0.80495    0.18638  0.75857"
      ]
     },
     "execution_count": 29,
     "metadata": {},
     "output_type": "execute_result"
    }
   ],
   "source": [
    "# randomforestclassifier and downsampling\n",
    "model = RandomForestClassifier(random_state=42)\n",
    "\n",
    "bids_array = df_to_array(bids)\n",
    "\n",
    "summary = pd.DataFrame(np.array(kfcv_downsample(model,bids_array)).reshape(1,-1)\n",
    "                                ,columns=['Probability','AUC','Accuracy','Precision','Recall'])\n",
    "summary"
   ]
  },
  {
   "cell_type": "code",
   "execution_count": 30,
   "metadata": {},
   "outputs": [
    {
     "name": "stderr",
     "output_type": "stream",
     "text": [
      "C:\\Anaconda\\lib\\site-packages\\sklearn\\ensemble\\forest.py:248: FutureWarning: The default value of n_estimators will change from 10 in version 0.20 to 100 in 0.22.\n",
      "  \"10 in version 0.20 to 100 in 0.22.\", FutureWarning)\n"
     ]
    },
    {
     "data": {
      "text/html": [
       "<div>\n",
       "<style scoped>\n",
       "    .dataframe tbody tr th:only-of-type {\n",
       "        vertical-align: middle;\n",
       "    }\n",
       "\n",
       "    .dataframe tbody tr th {\n",
       "        vertical-align: top;\n",
       "    }\n",
       "\n",
       "    .dataframe thead th {\n",
       "        text-align: right;\n",
       "    }\n",
       "</style>\n",
       "<table border=\"1\" class=\"dataframe\">\n",
       "  <thead>\n",
       "    <tr style=\"text-align: right;\">\n",
       "      <th></th>\n",
       "      <th>Probability</th>\n",
       "      <th>AUC</th>\n",
       "      <th>Accuracy</th>\n",
       "      <th>Precision</th>\n",
       "      <th>Recall</th>\n",
       "    </tr>\n",
       "  </thead>\n",
       "  <tbody>\n",
       "    <tr>\n",
       "      <th>0</th>\n",
       "      <td>0.5</td>\n",
       "      <td>0.76165</td>\n",
       "      <td>0.94003</td>\n",
       "      <td>0.40636</td>\n",
       "      <td>0.34905</td>\n",
       "    </tr>\n",
       "  </tbody>\n",
       "</table>\n",
       "</div>"
      ],
      "text/plain": [
       "   Probability      AUC  Accuracy  Precision   Recall\n",
       "0          0.5  0.76165   0.94003    0.40636  0.34905"
      ]
     },
     "execution_count": 30,
     "metadata": {},
     "output_type": "execute_result"
    }
   ],
   "source": [
    "# randomforestclassifier and upsampling\n",
    "model = RandomForestClassifier(random_state=42)\n",
    "\n",
    "bids_array = df_to_array(bids)\n",
    "\n",
    "summary = pd.DataFrame(np.array(kfcv_upsample(model,bids_array)).reshape(1,-1)\n",
    "                                ,columns=['Probability','AUC','Accuracy','Precision','Recall'])\n",
    "summary"
   ]
  },
  {
   "cell_type": "markdown",
   "metadata": {},
   "source": [
    "## Feature Engineering (more time- and timedifffrelated features):\n",
    "    - timemax_fnum\n",
    "    - timemin_fnum\n",
    "    \n",
    "    - timediffmax_fnum\n",
    "    - timediffmin_fnum\n",
    "    - timediffrange_fnum\n",
    "    - timediffmean_fnum\n",
    "    - timediffmedian_fnum\n",
    "    - timediffquantile_0.1_fnum to timediffquantile_0.9_fnum"
   ]
  },
  {
   "cell_type": "markdown",
   "metadata": {},
   "source": [
    "#### <font color='red'> Engineering features\n",
    "    - timemax_fnum\n",
    "    - timemin_fnum"
   ]
  },
  {
   "cell_type": "code",
   "execution_count": 31,
   "metadata": {},
   "outputs": [],
   "source": [
    "# max time feature\n",
    "timemax = bidsdf.groupby('bidder_id')['time'].max()\n",
    "\n",
    "bids['timemax_fnum'] = timemax\n",
    "\n",
    "# min time feature\n",
    "timemin = bidsdf.groupby('bidder_id')['time'].min()\n",
    "\n",
    "bids['timemin_fnum'] = timemin"
   ]
  },
  {
   "cell_type": "markdown",
   "metadata": {},
   "source": [
    "### Keeping null values for timediff column for train and test sets so that we can apply appropriate imputation (i.e. median) for missing values in timediff-related engineered features"
   ]
  },
  {
   "cell_type": "code",
   "execution_count": 32,
   "metadata": {},
   "outputs": [],
   "source": [
    "timediffnull = bidsdf.groupby('bidder_id')['time'].diff()\n",
    "bidsdf['timediffnull'] = timediffnull"
   ]
  },
  {
   "cell_type": "markdown",
   "metadata": {},
   "source": [
    "#### <font color='red'> Engineering features\n",
    "    - timediffmax_fnum\n",
    "    - timediffmin_fnum\n",
    "    - timediffrange_fnum\n",
    "    - timediffmean_fnum\n",
    "    - timediffmedian_fnum\n",
    "    - timediffquantile_0.1_fnum to timediffquantile_0.9_fnum"
   ]
  },
  {
   "cell_type": "code",
   "execution_count": 33,
   "metadata": {},
   "outputs": [
    {
     "name": "stdout",
     "output_type": "stream",
     "text": [
      "bids shape: (6614, 22)\n"
     ]
    }
   ],
   "source": [
    "# timediffnull - max\n",
    "bids['timediffmax_fnum'] = bidsdf.groupby('bidder_id')['timediffnull'].max()\n",
    "bids['timediffmax_fnum'] = bids['timediffmax_fnum'].fillna(bids['timediffmax_fnum'].median())\n",
    "\n",
    "# timediffnull - min\n",
    "bids['timediffmin_fnum'] = bidsdf.groupby('bidder_id')['timediffnull'].min()\n",
    "bids['timediffmin_fnum'] = bids['timediffmin_fnum'].fillna(bids['timediffmin_fnum'].median())\n",
    "\n",
    "# timediffnull - range\n",
    "bids['timediffrange_fnum'] = bids['timediffmax_fnum'] - bids['timediffmin_fnum']\n",
    "\n",
    "# timediffnull - mean\n",
    "bids['timediffmean_fnum'] = bidsdf.groupby('bidder_id')['timediffnull'].mean()\n",
    "bids['timediffmean_fnum'] = bids['timediffmean_fnum'].fillna(bids['timediffmean_fnum'].median())\n",
    "\n",
    "# timediffnull - median\n",
    "bids['timediffmedian_fnum'] = bidsdf.groupby('bidder_id')['timediffnull'].median()\n",
    "bids['timediffmedian_fnum'] = bids['timediffmedian_fnum'].fillna(bids['timediffmedian_fnum'].median())\n",
    "\n",
    "# timediffnull - quantiles\n",
    "for q in [0.1, 0.2, 0.3, 0.4, 0.5, 0.6, 0.7, 0.8, 0.9]:\n",
    "    q_str = 'timediffquantile' + str(q) + '_fnum'\n",
    "    \n",
    "    bids[q_str] = bidsdf.groupby('bidder_id')['timediffnull'].quantile(q)\n",
    "    bids[q_str] = bids[q_str].fillna(bids[q_str].median())\n",
    "\n",
    "print('bids shape: {}'.format(bids.shape))"
   ]
  },
  {
   "cell_type": "markdown",
   "metadata": {},
   "source": [
    "## <font color='green'> Modelling\n",
    "    RandomForestClassifier with twenty features:\n",
    "    - bids_fnum\n",
    "    - auctions_fnum\n",
    "    - meanbidsperauction_fnum\n",
    "    - meantimediff_fnum\n",
    "    \n",
    "    - timemax_fnum\n",
    "    - timemin_fnum\n",
    "    \n",
    "    - timediffmax_fnum\n",
    "    - timediffmin_fnum\n",
    "    - timediffrange_fnum\n",
    "    - timediffmean_fnum\n",
    "    - timediffmedian_fnum\n",
    "    - timediffquantile_0.1_fnum to timediffquantile_0.9_fnum"
   ]
  },
  {
   "cell_type": "code",
   "execution_count": 34,
   "metadata": {},
   "outputs": [
    {
     "name": "stderr",
     "output_type": "stream",
     "text": [
      "C:\\Anaconda\\lib\\site-packages\\sklearn\\ensemble\\forest.py:248: FutureWarning: The default value of n_estimators will change from 10 in version 0.20 to 100 in 0.22.\n",
      "  \"10 in version 0.20 to 100 in 0.22.\", FutureWarning)\n"
     ]
    },
    {
     "data": {
      "text/html": [
       "<div>\n",
       "<style scoped>\n",
       "    .dataframe tbody tr th:only-of-type {\n",
       "        vertical-align: middle;\n",
       "    }\n",
       "\n",
       "    .dataframe tbody tr th {\n",
       "        vertical-align: top;\n",
       "    }\n",
       "\n",
       "    .dataframe thead th {\n",
       "        text-align: right;\n",
       "    }\n",
       "</style>\n",
       "<table border=\"1\" class=\"dataframe\">\n",
       "  <thead>\n",
       "    <tr style=\"text-align: right;\">\n",
       "      <th></th>\n",
       "      <th>Probability</th>\n",
       "      <th>AUC</th>\n",
       "      <th>Accuracy</th>\n",
       "      <th>Precision</th>\n",
       "      <th>Recall</th>\n",
       "    </tr>\n",
       "  </thead>\n",
       "  <tbody>\n",
       "    <tr>\n",
       "      <th>0</th>\n",
       "      <td>0.5</td>\n",
       "      <td>0.87862</td>\n",
       "      <td>0.81198</td>\n",
       "      <td>0.20097</td>\n",
       "      <td>0.87429</td>\n",
       "    </tr>\n",
       "  </tbody>\n",
       "</table>\n",
       "</div>"
      ],
      "text/plain": [
       "   Probability      AUC  Accuracy  Precision   Recall\n",
       "0          0.5  0.87862   0.81198    0.20097  0.87429"
      ]
     },
     "execution_count": 34,
     "metadata": {},
     "output_type": "execute_result"
    }
   ],
   "source": [
    "# randomforestclassifier and downsampling\n",
    "model = RandomForestClassifier(random_state=42)\n",
    "\n",
    "bids_array = df_to_array(bids)\n",
    "\n",
    "summary = pd.DataFrame(np.array(kfcv_downsample(model,bids_array)).reshape(1,-1)\n",
    "                                ,columns=['Probability','AUC','Accuracy','Precision','Recall'])\n",
    "summary"
   ]
  },
  {
   "cell_type": "code",
   "execution_count": 35,
   "metadata": {},
   "outputs": [
    {
     "name": "stderr",
     "output_type": "stream",
     "text": [
      "C:\\Anaconda\\lib\\site-packages\\sklearn\\ensemble\\forest.py:248: FutureWarning: The default value of n_estimators will change from 10 in version 0.20 to 100 in 0.22.\n",
      "  \"10 in version 0.20 to 100 in 0.22.\", FutureWarning)\n"
     ]
    },
    {
     "data": {
      "text/html": [
       "<div>\n",
       "<style scoped>\n",
       "    .dataframe tbody tr th:only-of-type {\n",
       "        vertical-align: middle;\n",
       "    }\n",
       "\n",
       "    .dataframe tbody tr th {\n",
       "        vertical-align: top;\n",
       "    }\n",
       "\n",
       "    .dataframe thead th {\n",
       "        text-align: right;\n",
       "    }\n",
       "</style>\n",
       "<table border=\"1\" class=\"dataframe\">\n",
       "  <thead>\n",
       "    <tr style=\"text-align: right;\">\n",
       "      <th></th>\n",
       "      <th>Probability</th>\n",
       "      <th>AUC</th>\n",
       "      <th>Accuracy</th>\n",
       "      <th>Precision</th>\n",
       "      <th>Recall</th>\n",
       "    </tr>\n",
       "  </thead>\n",
       "  <tbody>\n",
       "    <tr>\n",
       "      <th>0</th>\n",
       "      <td>0.5</td>\n",
       "      <td>0.83002</td>\n",
       "      <td>0.94454</td>\n",
       "      <td>0.47059</td>\n",
       "      <td>0.31952</td>\n",
       "    </tr>\n",
       "  </tbody>\n",
       "</table>\n",
       "</div>"
      ],
      "text/plain": [
       "   Probability      AUC  Accuracy  Precision   Recall\n",
       "0          0.5  0.83002   0.94454    0.47059  0.31952"
      ]
     },
     "execution_count": 35,
     "metadata": {},
     "output_type": "execute_result"
    }
   ],
   "source": [
    "# randomforestclassifier and upsampling\n",
    "model = RandomForestClassifier(random_state=42)\n",
    "\n",
    "bids_array = df_to_array(bids)\n",
    "\n",
    "summary = pd.DataFrame(np.array(kfcv_upsample(model,bids_array)).reshape(1,-1)\n",
    "                                ,columns=['Probability','AUC','Accuracy','Precision','Recall'])\n",
    "summary"
   ]
  },
  {
   "cell_type": "markdown",
   "metadata": {},
   "source": [
    "# Vectorizing Text Data\n",
    "    - to see if there are any defining characteristics that would differentiate robotic behaviour from human behaviour\n",
    "    \n",
    "    - note that for predictive modeling, 'payment_account' and 'address' text columns are left out for vectorization as they had mediocre AUC scores from our univariate AUC score analyses"
   ]
  },
  {
   "cell_type": "code",
   "execution_count": 36,
   "metadata": {},
   "outputs": [
    {
     "name": "stdout",
     "output_type": "stream",
     "text": [
      "bidstextdf shape: (6614, 16)\n"
     ]
    }
   ],
   "source": [
    "textcols = ['auction','merchandise','device','country','ip','url','timedifftext']\n",
    "\n",
    "# aggregating text features in bidstraindf\n",
    "bidstextdf = bidsdf.groupby('bidder_id')['bidder_id'].agg('count')\n",
    "bidstextdf = pd.DataFrame({'bidder_id':bidstextdf.index,'bids_num':bidstextdf.values},index=bidstextdf.index)\n",
    "\n",
    "# as there are some data points in 'country' that are float, we are converting them to string here\n",
    "bidsdf['country'] = bidsdf['country'].apply(lambda x: str(x))\n",
    "\n",
    "# adding in a new text column for timediff as there are some patterns distinctive to robots\n",
    "bidsdf['timedifftext'] = bidsdf['timediff'].apply(lambda x: str(x))\n",
    "\n",
    "for var in textcols:\n",
    "    var_text = var + '_ftext' \n",
    "    var_num = var + '_fnum'\n",
    "\n",
    "    bidstextdf[var_text] = bidsdf.groupby('bidder_id')[var].apply(lambda x: ' '.join(x))\n",
    "    bidstextdf[var_num] = bidsdf.groupby('bidder_id')[var].nunique()\n",
    "\n",
    "print('bidstextdf shape: {}'.format(bidstextdf.shape))"
   ]
  },
  {
   "cell_type": "markdown",
   "metadata": {},
   "source": [
    "#### <font color='red'> Engineering features\n",
    "    - Text vectorization with the following instructions:\n",
    "    \n",
    "    - CountVectorizer()\n",
    "    - Our own customizer tokenizer defined by tokensvect()\n",
    "    - 'payment_account' and 'address' would not be vectorized\n",
    "    - 'IP' would be vectorized using default tokenizer defined within sklearn's CountVectorizer(). The reason is because due to analysis done (not in this notebook), our customized tokenizer returned meaningless univariate AUC scores"
   ]
  },
  {
   "cell_type": "code",
   "execution_count": 37,
   "metadata": {},
   "outputs": [],
   "source": [
    "# define my own tokenizer specific for this problem\n",
    "def tokensvect(x):\n",
    "    return x.split(' ')"
   ]
  },
  {
   "cell_type": "code",
   "execution_count": 38,
   "metadata": {},
   "outputs": [],
   "source": [
    "# setting up the text CountVectorizer's parameters dictionary\n",
    "textparams = {}\n",
    "\n",
    "textparams['auction_ftext'] = {'include':True,'tokenizer':'tokensvect','mindf':8,'ngram':(1,1)}\n",
    "textparams['merchandise_ftext'] = {'include':True,'tokenizer':'tokensvect','mindf':1,'ngram':(1,7)}\n",
    "textparams['device_ftext'] = {'include':True,'tokenizer':'tokensvect','mindf':6,'ngram':(1,1)}\n",
    "textparams['country_ftext'] = {'include':True,'tokenizer':'tokensvect','mindf':6,'ngram':(1,1)}\n",
    "textparams['ip_ftext'] = {'include':True,'tokenizer':'default','mindf':1,'ngram':(1,1)}\n",
    "textparams['url_ftext'] = {'include':True,'tokenizer':'tokensvect','mindf':8,'ngram':(1,1)}\n",
    "textparams['timedifftext_ftext'] = {'include':True,'tokenizer':'tokensvect','mindf':4,'ngram':(1,1)}"
   ]
  },
  {
   "cell_type": "markdown",
   "metadata": {},
   "source": [
    "#### Changing the data structures for our train and test dataframes to arrays so that we can apply np.hstack() later with our vectorized text predictors"
   ]
  },
  {
   "cell_type": "code",
   "execution_count": 39,
   "metadata": {},
   "outputs": [
    {
     "name": "stdout",
     "output_type": "stream",
     "text": [
      "xtrainall shape: (1984, 20) \n",
      "\n",
      "ytrainall shape: (1984, 1) \n",
      "\n",
      "xtestall shape: (4630, 20)\n"
     ]
    }
   ],
   "source": [
    "bids['index'] = range(bids.shape[0])\n",
    "bidstextdf['index'] = range(bidstextdf.shape[0])\n",
    "\n",
    "outcome0_index = bids[bids['outcome'] == 0]['index']\n",
    "outcome1_index = bids[bids['outcome'] == 1]['index']\n",
    "\n",
    "# split bids df to train set\n",
    "train = bids[(bids['outcome'] == 0) | (bids['outcome'] == 1)]\n",
    "train_index = train['index']\n",
    "\n",
    "xtrainall = train.drop(['bidder_id','outcome','index'],axis=1,inplace=False).values\n",
    "ytrainall = train['outcome'].values.reshape(-1,1)\n",
    "\n",
    "# split bids df to test set\n",
    "test = bids[bids['outcome'].isna()]\n",
    "test_index = test['index']\n",
    "\n",
    "xtestall = test.drop(['bidder_id','outcome','index'],axis=1,inplace=False).values\n",
    "\n",
    "print('xtrainall shape: {}'.format(xtrainall.shape),'\\n')\n",
    "print('ytrainall shape: {}'.format(ytrainall.shape),'\\n')\n",
    "print('xtestall shape: {}'.format(xtestall.shape))"
   ]
  },
  {
   "cell_type": "code",
   "execution_count": 40,
   "metadata": {},
   "outputs": [
    {
     "name": "stdout",
     "output_type": "stream",
     "text": [
      "auction_ftext xtrainfeature shape: (1984, 4158)\n",
      "auction_ftext xtestfeature shape: (4630, 4158) \n",
      "\n",
      "merchandise_ftext xtrainfeature shape: (1984, 132)\n",
      "merchandise_ftext xtestfeature shape: (4630, 132) \n",
      "\n",
      "device_ftext xtrainfeature shape: (1984, 2482)\n",
      "device_ftext xtestfeature shape: (4630, 2482) \n",
      "\n",
      "country_ftext xtrainfeature shape: (1984, 174)\n",
      "country_ftext xtestfeature shape: (4630, 174) \n",
      "\n",
      "ip_ftext xtrainfeature shape: (1984, 246)\n",
      "ip_ftext xtestfeature shape: (4630, 246) \n",
      "\n",
      "url_ftext xtrainfeature shape: (1984, 12)\n",
      "url_ftext xtestfeature shape: (4630, 12) \n",
      "\n",
      "timedifftext_ftext xtrainfeature shape: (1984, 5364)\n",
      "timedifftext_ftext xtestfeature shape: (4630, 5364) \n",
      "\n",
      "xtrainall shape: (1984, 12588)\n",
      "xtestall shape: (4630, 12588)\n",
      "cvect feature names len: 7\n"
     ]
    }
   ],
   "source": [
    "textcols = ['auction_ftext','merchandise_ftext','device_ftext',\n",
    "            'country_ftext','ip_ftext','url_ftext','timedifftext_ftext']\n",
    "\n",
    "cvect_feature_names = []\n",
    "\n",
    "for col in textcols:\n",
    "    xtrainfeature = 0\n",
    "    xtestfeature = 0\n",
    "    \n",
    "    if textparams[col]['include'] is not True:\n",
    "        continue\n",
    "    else:\n",
    "        if textparams[col]['tokenizer'] is 'tokensvect':\n",
    "            cvect = CountVectorizer(tokenizer=tokensvect,min_df=textparams[col]['mindf'],\n",
    "                                    ngram_range=textparams[col]['ngram'])\n",
    "            \n",
    "            xtrainfeature = cvect.fit_transform(bidstextdf[bidstextdf['index'].isin(train_index)][col])\n",
    "            xtestfeature = cvect.transform(bidstextdf[bidstextdf['index'].isin(test_index)][col])\n",
    "\n",
    "            print(col + ' xtrainfeature shape: {}'.format(xtrainfeature.shape))\n",
    "            print(col + ' xtestfeature shape: {}'.format(xtestfeature.shape),'\\n')\n",
    "        else:\n",
    "            cvect = CountVectorizer(min_df=textparams[col]['mindf'],\n",
    "                                   ngram_range=textparams[col]['ngram'])\n",
    "            \n",
    "            xtrainfeature = cvect.fit_transform(bidstextdf[bidstextdf['index'].isin(train_index)][col])\n",
    "            xtestfeature = cvect.transform(bidstextdf[bidstextdf['index'].isin(test_index)][col])\n",
    "            \n",
    "            print(col + ' xtrainfeature shape: {}'.format(xtrainfeature.shape))\n",
    "            print(col + ' xtestfeature shape: {}'.format(xtestfeature.shape),'\\n')\n",
    "        \n",
    "    # append cvect feature names\n",
    "    cvect_feature_names.append(cvect.get_feature_names())\n",
    "            \n",
    "    ####-------------------------------------------- Train set --------------------------------------------###    \n",
    "    xtrainfeature = xtrainfeature.toarray()\n",
    "    xtrainall = np.hstack((xtrainall,xtrainfeature))    \n",
    "    \n",
    "    ####-------------------------------------------- Test set --------------------------------------------###\n",
    "    xtestfeature = xtestfeature.toarray()\n",
    "    xtestall = np.hstack((xtestall,xtestfeature))\n",
    "    \n",
    "print('xtrainall shape: {}'.format(xtrainall.shape))\n",
    "print('xtestall shape: {}'.format(xtestall.shape))\n",
    "print('cvect feature names len: {}'.format(len(cvect_feature_names)))"
   ]
  },
  {
   "cell_type": "markdown",
   "metadata": {},
   "source": [
    "#### Adding '_fnum' text features (the unique counts for each text object for each bidder_id in each text column) to xtrainall and xtestall"
   ]
  },
  {
   "cell_type": "code",
   "execution_count": 41,
   "metadata": {},
   "outputs": [
    {
     "name": "stdout",
     "output_type": "stream",
     "text": [
      "trainfnum shape: (1984, 7) \n",
      "\n",
      "testfnum shape: (4630, 7) \n",
      "\n",
      "xtrainall shape: (1984, 12595) \n",
      "\n",
      "xtestall shape: (4630, 12595) \n",
      "\n",
      "ytrainall shape: (1984, 1)\n"
     ]
    }
   ],
   "source": [
    "textcols = ['auction_fnum','merchandise_fnum','device_fnum','country_fnum',\n",
    "           'ip_fnum','url_fnum','timedifftext_fnum']\n",
    "\n",
    "trainfnum = bidstextdf[bidstextdf['index'].isin(train_index)][textcols]\n",
    "testfnum = bidstextdf[bidstextdf['index'].isin(test_index)][textcols]\n",
    "\n",
    "print('trainfnum shape: {}'.format(trainfnum.shape),'\\n')\n",
    "print('testfnum shape: {}'.format(testfnum.shape),'\\n')\n",
    "\n",
    "# horizontal concat to xtrainall and xtestall\n",
    "xtrainall = np.hstack((xtrainall,trainfnum.values))\n",
    "xtestall = np.hstack((xtestall,testfnum.values))\n",
    "\n",
    "print('xtrainall shape: {}'.format(xtrainall.shape),'\\n')\n",
    "print('xtestall shape: {}'.format(xtestall.shape),'\\n')\n",
    "print('ytrainall shape: {}'.format(ytrainall.shape))"
   ]
  },
  {
   "cell_type": "markdown",
   "metadata": {},
   "source": [
    "#### <font color='red'> Visualizing text data\n",
    "    - once text data has been vectorized, we calculated the number of counts for each text object across all unique bidders (robot or human) for all text data"
   ]
  },
  {
   "cell_type": "code",
   "execution_count": 60,
   "metadata": {},
   "outputs": [
    {
     "data": {
      "image/png": "[encoded data removed]",
      "text/plain": [
       "<Figure size 720x432 with 1 Axes>"
      ]
     },
     "metadata": {},
     "output_type": "display_data"
    }
   ],
   "source": [
    "counts0 = [95792,757457,44730,30857,482829,43388,116215]\n",
    "counts1 = [355748,4704950,402286,412177,1585226,292379,411680]\n",
    "\n",
    "fig, ax = plt.subplots(figsize=(10,6))\n",
    "\n",
    "n_groups = 7\n",
    "index = np.arange(n_groups)\n",
    "bar_width = 0.35\n",
    "\n",
    "rects1 = ax.bar(index,counts0,bar_width,color='b')\n",
    "rects2 = ax.bar(index+bar_width,counts1,bar_width,color='r')\n",
    "\n",
    "ax.set_ylabel('Counts')\n",
    "ax.set_title('Total word counts across text data by target class',fontsize=18)\n",
    "ax.set_xticks(index+bar_width/2)\n",
    "ax.set_xticklabels(('Auction','Merchandise','Device','Country','IP','URL','Timediff'))\n",
    "ax.legend(['0 : Humans','1 : Robots'],title='Target (class)',loc='best',fontsize=15)\n",
    "\n",
    "fig.tight_layout()\n",
    "\n",
    "ax.grid(True)"
   ]
  },
  {
   "cell_type": "markdown",
   "metadata": {},
   "source": [
    "## <font color='green'> Modelling\n",
    "    RandomForestClassifier with the following features:\n",
    "    - bids_fnum\n",
    "    - auctions_fnum\n",
    "    - meanbidsperauction_fnum\n",
    "    - meantimediff_fnum\n",
    "    \n",
    "    - timemax_fnum\n",
    "    - timemin_fnum\n",
    "    \n",
    "    - timediffmax_fnum\n",
    "    - timediffmin_fnum\n",
    "    - timediffrange_fnum\n",
    "    - timediffmean_fnum\n",
    "    - timediffmedian_fnum\n",
    "    - timediffquantile_0.1_fnum to timediffquantile_0.9_fnum\n",
    "    \n",
    "    - vectorized '_ftext' features (excluding 'payment_account' and 'address')\n",
    "    - '_fnum' features representing the unique counts of text objects per bidder_id for each text column (excluding 'payment_account' and 'address')"
   ]
  },
  {
   "cell_type": "code",
   "execution_count": 43,
   "metadata": {},
   "outputs": [
    {
     "name": "stderr",
     "output_type": "stream",
     "text": [
      "C:\\Anaconda\\lib\\site-packages\\sklearn\\ensemble\\forest.py:248: FutureWarning: The default value of n_estimators will change from 10 in version 0.20 to 100 in 0.22.\n",
      "  \"10 in version 0.20 to 100 in 0.22.\", FutureWarning)\n"
     ]
    },
    {
     "data": {
      "text/html": [
       "<div>\n",
       "<style scoped>\n",
       "    .dataframe tbody tr th:only-of-type {\n",
       "        vertical-align: middle;\n",
       "    }\n",
       "\n",
       "    .dataframe tbody tr th {\n",
       "        vertical-align: top;\n",
       "    }\n",
       "\n",
       "    .dataframe thead th {\n",
       "        text-align: right;\n",
       "    }\n",
       "</style>\n",
       "<table border=\"1\" class=\"dataframe\">\n",
       "  <thead>\n",
       "    <tr style=\"text-align: right;\">\n",
       "      <th></th>\n",
       "      <th>Probability</th>\n",
       "      <th>AUC</th>\n",
       "      <th>Accuracy</th>\n",
       "      <th>Precision</th>\n",
       "      <th>Recall</th>\n",
       "    </tr>\n",
       "  </thead>\n",
       "  <tbody>\n",
       "    <tr>\n",
       "      <th>0</th>\n",
       "      <td>0.5</td>\n",
       "      <td>0.87862</td>\n",
       "      <td>0.81198</td>\n",
       "      <td>0.20097</td>\n",
       "      <td>0.87429</td>\n",
       "    </tr>\n",
       "  </tbody>\n",
       "</table>\n",
       "</div>"
      ],
      "text/plain": [
       "   Probability      AUC  Accuracy  Precision   Recall\n",
       "0          0.5  0.87862   0.81198    0.20097  0.87429"
      ]
     },
     "execution_count": 43,
     "metadata": {},
     "output_type": "execute_result"
    }
   ],
   "source": [
    "# randomforestclassifier and downsampling\n",
    "model = RandomForestClassifier(random_state=42)\n",
    "\n",
    "trainall = np.hstack((xtrainall,ytrainall))\n",
    "\n",
    "summary = pd.DataFrame(np.array(kfcv_downsample(model,bids_array)).reshape(1,-1)\n",
    "                                ,columns=['Probability','AUC','Accuracy','Precision','Recall'])\n",
    "summary"
   ]
  },
  {
   "cell_type": "code",
   "execution_count": 44,
   "metadata": {},
   "outputs": [
    {
     "name": "stderr",
     "output_type": "stream",
     "text": [
      "C:\\Anaconda\\lib\\site-packages\\sklearn\\ensemble\\forest.py:248: FutureWarning: The default value of n_estimators will change from 10 in version 0.20 to 100 in 0.22.\n",
      "  \"10 in version 0.20 to 100 in 0.22.\", FutureWarning)\n"
     ]
    },
    {
     "data": {
      "text/html": [
       "<div>\n",
       "<style scoped>\n",
       "    .dataframe tbody tr th:only-of-type {\n",
       "        vertical-align: middle;\n",
       "    }\n",
       "\n",
       "    .dataframe tbody tr th {\n",
       "        vertical-align: top;\n",
       "    }\n",
       "\n",
       "    .dataframe thead th {\n",
       "        text-align: right;\n",
       "    }\n",
       "</style>\n",
       "<table border=\"1\" class=\"dataframe\">\n",
       "  <thead>\n",
       "    <tr style=\"text-align: right;\">\n",
       "      <th></th>\n",
       "      <th>Probability</th>\n",
       "      <th>AUC</th>\n",
       "      <th>Accuracy</th>\n",
       "      <th>Precision</th>\n",
       "      <th>Recall</th>\n",
       "    </tr>\n",
       "  </thead>\n",
       "  <tbody>\n",
       "    <tr>\n",
       "      <th>0</th>\n",
       "      <td>0.5</td>\n",
       "      <td>0.83002</td>\n",
       "      <td>0.94454</td>\n",
       "      <td>0.47059</td>\n",
       "      <td>0.31952</td>\n",
       "    </tr>\n",
       "  </tbody>\n",
       "</table>\n",
       "</div>"
      ],
      "text/plain": [
       "   Probability      AUC  Accuracy  Precision   Recall\n",
       "0          0.5  0.83002   0.94454    0.47059  0.31952"
      ]
     },
     "execution_count": 44,
     "metadata": {},
     "output_type": "execute_result"
    }
   ],
   "source": [
    "# randomforestclassifier and upsampling\n",
    "model = RandomForestClassifier(random_state=42)\n",
    "\n",
    "trainall = np.hstack((xtrainall,ytrainall))\n",
    "\n",
    "summary = pd.DataFrame(np.array(kfcv_upsample(model,bids_array)).reshape(1,-1)\n",
    "                                ,columns=['Probability','AUC','Accuracy','Precision','Recall'])\n",
    "summary"
   ]
  },
  {
   "cell_type": "markdown",
   "metadata": {},
   "source": [
    "## <font color='green'> Modelling\n",
    "    - XGBoost with all features\n",
    "    - With downsampling of majority class of 0 : Humans\n",
    "    - Note that hyperparameters used in XGBoost() have been tuned"
   ]
  },
  {
   "cell_type": "code",
   "execution_count": 45,
   "metadata": {},
   "outputs": [
    {
     "name": "stdout",
     "output_type": "stream",
     "text": [
      "train shape: (1984, 12596)\n",
      "x shape: (1984, 12595)\n",
      "y shape: (1984,) \n",
      "\n"
     ]
    },
    {
     "data": {
      "text/html": [
       "<div>\n",
       "<style scoped>\n",
       "    .dataframe tbody tr th:only-of-type {\n",
       "        vertical-align: middle;\n",
       "    }\n",
       "\n",
       "    .dataframe tbody tr th {\n",
       "        vertical-align: top;\n",
       "    }\n",
       "\n",
       "    .dataframe thead th {\n",
       "        text-align: right;\n",
       "    }\n",
       "</style>\n",
       "<table border=\"1\" class=\"dataframe\">\n",
       "  <thead>\n",
       "    <tr style=\"text-align: right;\">\n",
       "      <th></th>\n",
       "      <th>Probability</th>\n",
       "      <th>n_estimator</th>\n",
       "      <th>AUC</th>\n",
       "      <th>Accuracy</th>\n",
       "      <th>Precision</th>\n",
       "      <th>Recall</th>\n",
       "    </tr>\n",
       "  </thead>\n",
       "  <tbody>\n",
       "    <tr>\n",
       "      <th>0</th>\n",
       "      <td>0.5</td>\n",
       "      <td>28.0</td>\n",
       "      <td>0.90129</td>\n",
       "      <td>0.79482</td>\n",
       "      <td>0.19755</td>\n",
       "      <td>0.88333</td>\n",
       "    </tr>\n",
       "  </tbody>\n",
       "</table>\n",
       "</div>"
      ],
      "text/plain": [
       "   Probability  n_estimator      AUC  Accuracy  Precision   Recall\n",
       "0          0.5         28.0  0.90129   0.79482    0.19755  0.88333"
      ]
     },
     "execution_count": 45,
     "metadata": {},
     "output_type": "execute_result"
    }
   ],
   "source": [
    "trainall = np.hstack((xtrainall,ytrainall))\n",
    "\n",
    "# filtering for training data from data_array\n",
    "train0 = trainall[trainall[:,-1] == 0,:]\n",
    "train1 = trainall[trainall[:,-1] == 1,:]\n",
    "train = np.vstack((train0,train1))\n",
    "\n",
    "x = train[:,:-1]\n",
    "y = train[:,-1]\n",
    "\n",
    "print('train shape: {}'.format(train.shape))\n",
    "print('x shape: {}'.format(x.shape))\n",
    "print('y shape: {}'.format(y.shape),'\\n')\n",
    "\n",
    "# feature names for data array\n",
    "feature_names = [feature for feature in bids.columns if feature != 'bidder_id' and feature != 'outcome' and\\\n",
    "       feature != 'index'] + [feature for feature_list in cvect_feature_names for feature in feature_list]+\\\n",
    "['auction_fnum','merchandise_fnum','device_fnum','country_fnum',\n",
    "           'ip_fnum','url_fnum','timedifftext_fnum']\n",
    "\n",
    "fold = 5\n",
    "\n",
    "# cross-validation\n",
    "estimators = []\n",
    "fprs = []\n",
    "tprs = []\n",
    "aucs = []\n",
    "accuracies = []\n",
    "precisions = []\n",
    "recalls = []\n",
    "\n",
    "\n",
    "kf = StratifiedKFold(fold,shuffle=False,random_state=42)\n",
    "\n",
    "for train_indices,test_indices in kf.split(x,y):\n",
    "    fold_xtrain = x[train_indices]\n",
    "    fold_xtest = x[test_indices]\n",
    "    fold_ytrain = y[train_indices]\n",
    "    fold_ytest = y[test_indices]\n",
    "\n",
    "    # creating a data array for training set in each fold\n",
    "    train_array = np.hstack((fold_xtrain,fold_ytrain.reshape(-1,1)))\n",
    "\n",
    "    # downsampling majority class of 0 : Humans\n",
    "    fold_xtrain,fold_ytrain = downsample(train_array)\n",
    "\n",
    "    # instantiating xgboost with n_estimators = 1000\n",
    "    model = XGBClassifier(object='binary:logistic',\n",
    "                    learning_rate=0.2,\n",
    "                    max_depth=3, \n",
    "                    seed=42,\n",
    "                    subsample=0.65,\n",
    "                    colsample_bytree=0.75,\n",
    "                    min_child_weight=5,\n",
    "                    n_estimators=1000,\n",
    "                    gamma=0)\n",
    "\n",
    "    # 5-folds cv to compute the optimal no. for n_estimators\n",
    "    model_param = model.get_xgb_params()\n",
    "    model_train = xgb.DMatrix(fold_xtrain,label=fold_ytrain,feature_names=feature_names)\n",
    "\n",
    "    xgb_cvscore = xgb.cv(model_param,model_train,\n",
    "                        num_boost_round=model.get_params()['n_estimators'],\n",
    "                        nfold=fold,\n",
    "                        early_stopping_rounds=50,metrics='auc',seed=42)\n",
    "\n",
    "    # update our n_estimators to model\n",
    "    model.set_params(n_estimators=xgb_cvscore.shape[0])\n",
    "\n",
    "    # model fitting\n",
    "    model.fit(fold_xtrain,fold_ytrain,eval_metric='auc')\n",
    "\n",
    "    # predict target and computing its associated probabilities\n",
    "    ypred = model.predict(fold_xtest)\n",
    "    yprob = model.predict_proba(fold_xtest)\n",
    "\n",
    "    ypp = pd.DataFrame(yprob,columns=['class0pr','class1pr'])\n",
    "\n",
    "    # lower the probability threshold for predicting class 1 : Robots\n",
    "    #ypp['class1newpr_pred'] = [1 if x >= prob else 0 for x in ypp['class1pr']]\n",
    "\n",
    "    # for class 1 : Robots, find its auc\n",
    "    fpr,tpr,_ = roc_curve(fold_ytest,ypp['class1pr'])\n",
    "    aucs.append(auc(fpr,tpr))\n",
    "\n",
    "    # appending fprs, tprs, n_estimators, accuracies, precisions, recalls\n",
    "    fprs.append(fpr)\n",
    "    tprs.append(tpr)\n",
    "    \n",
    "    estimators.append(xgb_cvscore.shape[0])\n",
    "\n",
    "    acc,prec,recal = score(fold_xtest,fold_ytest,ypred)\n",
    "    accuracies.append(acc)\n",
    "    precisions.append(prec)\n",
    "    recalls.append(recal)\n",
    "    \n",
    "prob = 0.5\n",
    "estimator_mean = round(np.mean(estimators))\n",
    "auc_mean = round(np.mean(aucs),5)\n",
    "acc_mean = round(np.mean(accuracies),5)\n",
    "prec_mean = round(np.mean(precisions),5)\n",
    "recall_mean = round(np.mean(recalls),5)\n",
    "\n",
    "summary = pd.DataFrame(np.array([prob,estimator_mean,auc_mean,acc_mean,prec_mean,recall_mean]).reshape(1,-1),\n",
    "                      columns=['Probability','n_estimator','AUC','Accuracy','Precision','Recall'])\n",
    "\n",
    "summary"
   ]
  },
  {
   "cell_type": "markdown",
   "metadata": {},
   "source": [
    "## Top 3 Model Selection\n",
    "    - Crtieria are:\n",
    "    1) High Recall (high recall is preferred over high precision as it is costlier to mispredict 1 : Robots than 0 : Humans\n",
    "    2) Relatively high AUC score"
   ]
  },
  {
   "cell_type": "code",
   "execution_count": 46,
   "metadata": {},
   "outputs": [
    {
     "data": {
      "text/html": [
       "<div>\n",
       "<style scoped>\n",
       "    .dataframe tbody tr th:only-of-type {\n",
       "        vertical-align: middle;\n",
       "    }\n",
       "\n",
       "    .dataframe tbody tr th {\n",
       "        vertical-align: top;\n",
       "    }\n",
       "\n",
       "    .dataframe thead th {\n",
       "        text-align: right;\n",
       "    }\n",
       "</style>\n",
       "<table border=\"1\" class=\"dataframe\">\n",
       "  <thead>\n",
       "    <tr style=\"text-align: right;\">\n",
       "      <th></th>\n",
       "      <th>Probability</th>\n",
       "      <th>AUC</th>\n",
       "      <th>Accuracy</th>\n",
       "      <th>Precision</th>\n",
       "      <th>Recall</th>\n",
       "    </tr>\n",
       "  </thead>\n",
       "  <tbody>\n",
       "    <tr>\n",
       "      <th>RFC x4</th>\n",
       "      <td>0.5</td>\n",
       "      <td>0.88489</td>\n",
       "      <td>0.80495</td>\n",
       "      <td>0.18638</td>\n",
       "      <td>0.75857</td>\n",
       "    </tr>\n",
       "    <tr>\n",
       "      <th>RFC xAll</th>\n",
       "      <td>0.5</td>\n",
       "      <td>0.87862</td>\n",
       "      <td>0.81198</td>\n",
       "      <td>0.20097</td>\n",
       "      <td>0.87429</td>\n",
       "    </tr>\n",
       "    <tr>\n",
       "      <th>XGB xAll</th>\n",
       "      <td>0.5</td>\n",
       "      <td>0.90129</td>\n",
       "      <td>0.79482</td>\n",
       "      <td>0.19755</td>\n",
       "      <td>0.88333</td>\n",
       "    </tr>\n",
       "  </tbody>\n",
       "</table>\n",
       "</div>"
      ],
      "text/plain": [
       "          Probability      AUC  Accuracy  Precision   Recall\n",
       "RFC x4            0.5  0.88489   0.80495    0.18638  0.75857\n",
       "RFC xAll          0.5  0.87862   0.81198    0.20097  0.87429\n",
       "XGB xAll          0.5  0.90129   0.79482    0.19755  0.88333"
      ]
     },
     "execution_count": 46,
     "metadata": {},
     "output_type": "execute_result"
    }
   ],
   "source": [
    "# summary of performance metrics for top 3 models\n",
    "summary = [[0.5,0.88489,0.80495,0.18638,0.75857],[0.5,0.87862,0.81198,0.20097,0.87429],[0.5,0.90129,0.79482,0.19755,0.88333]]\n",
    "\n",
    "summarydf = pd.DataFrame(summary,columns=['Probability','AUC','Accuracy','Precision','Recall'])\n",
    "summarydf.index = ['RFC x4','RFC xAll','XGB xAll']\n",
    "\n",
    "summarydf"
   ]
  },
  {
   "cell_type": "markdown",
   "metadata": {},
   "source": [
    "## ROC Curve for selected model: XGBoost \n",
    "    - Note: these plots are based on the results computed from the 5-folds cv shown above)"
   ]
  },
  {
   "cell_type": "code",
   "execution_count": 61,
   "metadata": {},
   "outputs": [
    {
     "data": {
      "image/png": "[encoded data removed]",
      "text/plain": [
       "<Figure size 576x432 with 1 Axes>"
      ]
     },
     "metadata": {},
     "output_type": "display_data"
    }
   ],
   "source": [
    "# roc curve\n",
    "plt.figure(figsize=(8,6))\n",
    "\n",
    "plt.title('Receiver Operating Characteristic (XGBoost)',fontsize=18)\n",
    "\n",
    "for i in range(len(fprs)):\n",
    "    plt.plot(fprs[i],tprs[i],label='AUC: {}'.format(round(aucs[i],5)))\n",
    "\n",
    "plt.legend(loc='lower right',fontsize=14)\n",
    "plt.plot([0, 1], [0, 1],'r--')\n",
    "plt.xlim([0, 1])\n",
    "plt.ylim([0, 1])\n",
    "plt.ylabel('True Positive Rate',fontsize=16)\n",
    "plt.xlabel('False Positive Rate',fontsize=16)\n",
    "plt.show()\n",
    "\n",
    "ax.grid(False)"
   ]
  },
  {
   "cell_type": "code",
   "execution_count": null,
   "metadata": {},
   "outputs": [],
   "source": []
  }
 ],
 "metadata": {
  "kernelspec": {
   "display_name": "Python 3",
   "language": "python",
   "name": "python3"
  },
  "language_info": {
   "codemirror_mode": {
    "name": "ipython",
    "version": 3
   },
   "file_extension": ".py",
   "mimetype": "text/x-python",
   "name": "python",
   "nbconvert_exporter": "python",
   "pygments_lexer": "ipython3",
   "version": "3.6.5"
  }
 },
 "nbformat": 4,
 "nbformat_minor": 2
}
